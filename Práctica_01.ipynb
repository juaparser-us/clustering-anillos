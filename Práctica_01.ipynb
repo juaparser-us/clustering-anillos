{
 "cells": [
  {
   "cell_type": "markdown",
   "metadata": {},
   "source": [
    "El paquete de _Python_ [scikit-learn](http://scikit-learn.org) (_sklearn_ en lo que sigue) proporciona un marco de trabajo para el aprendizaje automático."
   ]
  },
  {
   "cell_type": "markdown",
   "metadata": {},
   "source": [
    "# Aprendizaje supervisado"
   ]
  },
  {
   "cell_type": "markdown",
   "metadata": {},
   "source": [
    "Para ilustrar el concepto de aprendizaje supervisado vamos a usar el conjunto de datos [_Car Evaluation_](http://archive.ics.uci.edu/ml/datasets/Car+Evaluation) del repositorio [UCI](http://archive.ics.uci.edu/ml/). Este conjunto de datos contiene información acerca de la idoneidad de una serie de coches, en función de los siguientes atributos:\n",
    "* _buying_: precio de compra. Posibles valores: `vhigh`, `high`, `med`, `low`.\n",
    "* _maint_: coste de mantenimiento. Posibles valores: `vhigh`, `high`, `med`, `low`.\n",
    "* _doors_: número de puertas. Posibles valores: `2`, `3`, `4`, `5more`.\n",
    "* _persons_: número de asientos. Posibles valores: `2`, `4`, `more`.\n",
    "* _lug\\_boot_: tamaño del maletero. Posibles valores: `small`, `med`, `big`.\n",
    "* _safety_: nivel de seguridad estimada. Posibles valores: `low`, `med`, `high`.\n",
    "\n",
    "La idoneidad de cada coche se indica mediante el atributo _acceptability_, que los clasifica como `unacc`, `acc`, `good` o `vgood`."
   ]
  },
  {
   "cell_type": "markdown",
   "metadata": {},
   "source": [
    "Para leer los datos desde el fichero `cars.csv` que se proporciona se pueden evaluar las siguientes expresiones ([_Pandas_](http://pandas.pydata.org/) y [_NumPy_](http://www.numpy.org/) son paquetes de _Python_ para análisis de datos y cálculo científico, respectivamente):"
   ]
  },
  {
   "cell_type": "code",
   "execution_count": 1,
   "metadata": {
    "collapsed": false,
    "jupyter": {
     "outputs_hidden": false
    }
   },
   "outputs": [
    {
     "name": "stdout",
     "output_type": "stream",
     "text": [
      "(1728, 7)\n"
     ]
    },
    {
     "data": {
      "text/html": [
       "<div>\n",
       "<style scoped>\n",
       "    .dataframe tbody tr th:only-of-type {\n",
       "        vertical-align: middle;\n",
       "    }\n",
       "\n",
       "    .dataframe tbody tr th {\n",
       "        vertical-align: top;\n",
       "    }\n",
       "\n",
       "    .dataframe thead th {\n",
       "        text-align: right;\n",
       "    }\n",
       "</style>\n",
       "<table border=\"1\" class=\"dataframe\">\n",
       "  <thead>\n",
       "    <tr style=\"text-align: right;\">\n",
       "      <th></th>\n",
       "      <th>buying</th>\n",
       "      <th>maint</th>\n",
       "      <th>doors</th>\n",
       "      <th>persons</th>\n",
       "      <th>lug_boot</th>\n",
       "      <th>safety</th>\n",
       "      <th>acceptability</th>\n",
       "    </tr>\n",
       "  </thead>\n",
       "  <tbody>\n",
       "    <tr>\n",
       "      <th>0</th>\n",
       "      <td>vhigh</td>\n",
       "      <td>vhigh</td>\n",
       "      <td>2</td>\n",
       "      <td>2</td>\n",
       "      <td>small</td>\n",
       "      <td>low</td>\n",
       "      <td>unacc</td>\n",
       "    </tr>\n",
       "    <tr>\n",
       "      <th>1</th>\n",
       "      <td>vhigh</td>\n",
       "      <td>vhigh</td>\n",
       "      <td>2</td>\n",
       "      <td>2</td>\n",
       "      <td>small</td>\n",
       "      <td>med</td>\n",
       "      <td>unacc</td>\n",
       "    </tr>\n",
       "    <tr>\n",
       "      <th>2</th>\n",
       "      <td>vhigh</td>\n",
       "      <td>vhigh</td>\n",
       "      <td>2</td>\n",
       "      <td>2</td>\n",
       "      <td>small</td>\n",
       "      <td>high</td>\n",
       "      <td>unacc</td>\n",
       "    </tr>\n",
       "    <tr>\n",
       "      <th>3</th>\n",
       "      <td>vhigh</td>\n",
       "      <td>vhigh</td>\n",
       "      <td>2</td>\n",
       "      <td>2</td>\n",
       "      <td>med</td>\n",
       "      <td>low</td>\n",
       "      <td>unacc</td>\n",
       "    </tr>\n",
       "    <tr>\n",
       "      <th>4</th>\n",
       "      <td>vhigh</td>\n",
       "      <td>vhigh</td>\n",
       "      <td>2</td>\n",
       "      <td>2</td>\n",
       "      <td>med</td>\n",
       "      <td>med</td>\n",
       "      <td>unacc</td>\n",
       "    </tr>\n",
       "    <tr>\n",
       "      <th>5</th>\n",
       "      <td>vhigh</td>\n",
       "      <td>vhigh</td>\n",
       "      <td>2</td>\n",
       "      <td>2</td>\n",
       "      <td>med</td>\n",
       "      <td>high</td>\n",
       "      <td>unacc</td>\n",
       "    </tr>\n",
       "    <tr>\n",
       "      <th>6</th>\n",
       "      <td>vhigh</td>\n",
       "      <td>vhigh</td>\n",
       "      <td>2</td>\n",
       "      <td>2</td>\n",
       "      <td>big</td>\n",
       "      <td>low</td>\n",
       "      <td>unacc</td>\n",
       "    </tr>\n",
       "    <tr>\n",
       "      <th>7</th>\n",
       "      <td>vhigh</td>\n",
       "      <td>vhigh</td>\n",
       "      <td>2</td>\n",
       "      <td>2</td>\n",
       "      <td>big</td>\n",
       "      <td>med</td>\n",
       "      <td>unacc</td>\n",
       "    </tr>\n",
       "    <tr>\n",
       "      <th>8</th>\n",
       "      <td>vhigh</td>\n",
       "      <td>vhigh</td>\n",
       "      <td>2</td>\n",
       "      <td>2</td>\n",
       "      <td>big</td>\n",
       "      <td>high</td>\n",
       "      <td>unacc</td>\n",
       "    </tr>\n",
       "    <tr>\n",
       "      <th>9</th>\n",
       "      <td>vhigh</td>\n",
       "      <td>vhigh</td>\n",
       "      <td>2</td>\n",
       "      <td>4</td>\n",
       "      <td>small</td>\n",
       "      <td>low</td>\n",
       "      <td>unacc</td>\n",
       "    </tr>\n",
       "  </tbody>\n",
       "</table>\n",
       "</div>"
      ],
      "text/plain": [
       "  buying  maint doors persons lug_boot safety acceptability\n",
       "0  vhigh  vhigh     2       2    small    low         unacc\n",
       "1  vhigh  vhigh     2       2    small    med         unacc\n",
       "2  vhigh  vhigh     2       2    small   high         unacc\n",
       "3  vhigh  vhigh     2       2      med    low         unacc\n",
       "4  vhigh  vhigh     2       2      med    med         unacc\n",
       "5  vhigh  vhigh     2       2      med   high         unacc\n",
       "6  vhigh  vhigh     2       2      big    low         unacc\n",
       "7  vhigh  vhigh     2       2      big    med         unacc\n",
       "8  vhigh  vhigh     2       2      big   high         unacc\n",
       "9  vhigh  vhigh     2       4    small    low         unacc"
      ]
     },
     "execution_count": 1,
     "metadata": {},
     "output_type": "execute_result"
    }
   ],
   "source": [
    "import pandas\n",
    "import numpy\n",
    "\n",
    "cars = pandas.read_csv('cars.csv', header=None,\n",
    "                       names=['buying', 'maint', 'doors', 'persons',\n",
    "                              'lug_boot', 'safety', 'acceptability'])\n",
    "print(cars.shape)  # Número de filas y columnas\n",
    "cars.head(10)  # 10 primeras filas"
   ]
  },
  {
   "cell_type": "markdown",
   "metadata": {},
   "source": [
    "_sklearn_ no puede trabajar directamente con el conjunto de datos anterior, ya que asume que los valores de las variables discretas están codificadas con números enteros. Para transformar los datos a un formato adecuado ofrece diversas operaciones de preprocesamiento, entre las que se encuentran `OrdinalEncoder`, para codificar los atributos, y `LabelEncoder`, para codificar la variable objetivo."
   ]
  },
  {
   "cell_type": "code",
   "execution_count": 2,
   "metadata": {
    "collapsed": false,
    "jupyter": {
     "outputs_hidden": false
    }
   },
   "outputs": [],
   "source": [
    "from sklearn import preprocessing\n",
    "\n",
    "atributos = cars.loc[:, 'buying':'safety']  # selección de las columnas de atributos\n",
    "objetivo = cars['acceptability']  # selección de la columna objetivo\n",
    "\n",
    "# Para realizar una codificación de los datos, se crea una instancia del tipo de codificación pretendida y se ajusta a los datos disponibles mediante el método\n",
    "# fit. Los métodos transform e inverse_transform permiten entonces codificar y descodificar, respectivamente, los datos."
   ]
  },
  {
   "cell_type": "code",
   "execution_count": 3,
   "metadata": {
    "collapsed": false,
    "jupyter": {
     "outputs_hidden": false
    }
   },
   "outputs": [
    {
     "name": "stdout",
     "output_type": "stream",
     "text": [
      "[array(['high', 'low', 'med', 'vhigh'], dtype=object), array(['high', 'low', 'med', 'vhigh'], dtype=object), array(['2', '3', '4', '5more'], dtype=object), array(['2', '4', 'more'], dtype=object), array(['big', 'med', 'small'], dtype=object), array(['high', 'low', 'med'], dtype=object)]\n",
      "[[3. 3. 0. 0. 2. 1.]\n",
      " [3. 3. 0. 0. 2. 2.]\n",
      " [3. 3. 0. 0. 2. 0.]\n",
      " ...\n",
      " [1. 1. 3. 2. 0. 1.]\n",
      " [1. 1. 3. 2. 0. 2.]\n",
      " [1. 1. 3. 2. 0. 0.]]\n",
      "[['vhigh' 'vhigh' '2' '2' 'small' 'low']\n",
      " ['low' 'low' '5more' 'more' 'big' 'low']]\n"
     ]
    }
   ],
   "source": [
    "# El codificador adecuado para los atributos es OrdinalEncoder, ya que permite trabajar con el array completo de valores de los atributos.\n",
    "codificador_atributos = preprocessing.OrdinalEncoder()\n",
    "codificador_atributos.fit(atributos)\n",
    "print(codificador_atributos.categories_)  # Categorías detectadas por el codificador para cada atributo\n",
    "atributos_codificados = codificador_atributos.transform(atributos)\n",
    "print(atributos_codificados)\n",
    "print(codificador_atributos.inverse_transform([[3., 3., 0., 0., 2., 1.],\n",
    "                                               [1., 1., 3., 2., 0., 1.]]))"
   ]
  },
  {
   "cell_type": "code",
   "execution_count": 4,
   "metadata": {
    "collapsed": false,
    "jupyter": {
     "outputs_hidden": false
    }
   },
   "outputs": [
    {
     "name": "stdout",
     "output_type": "stream",
     "text": [
      "['acc' 'good' 'unacc' 'vgood']\n",
      "[2 2 2 ... 2 1 3]\n",
      "['unacc' 'good' 'vgood']\n"
     ]
    }
   ],
   "source": [
    "# El codificador adecuado para la variable objetivo es LabelEncoder, que trabaja con la lista de sus valores, en lugar de con un array.\n",
    "codificador_objetivo = preprocessing.LabelEncoder()\n",
    "objetivo_codificado = codificador_objetivo.fit_transform(objetivo)  # El método fit_transform ajusta la codificación y la aplica a los datos a continuación\n",
    "print(codificador_objetivo.classes_)  # Clases detectadas por el codificador para la variable objetivo\n",
    "print(objetivo_codificado)\n",
    "print(codificador_objetivo.inverse_transform([2, 1, 3]))"
   ]
  },
  {
   "cell_type": "markdown",
   "metadata": {},
   "source": [
    "Una vez codificadas las variables, es necesario separar el conjunto de datos en dos: un conjunto de entrenamiento, que se usará para generar los distintos modelos; y un conjunto de prueba, que se usará para comparar los distintos modelos.\n",
    "\n",
    "Un detalle a tener en cuenta es que la distribución de ejemplos en las distintas clases de aceptabilidad no es uniforme: hay 1210 coches (un 70.023 % del total) clasificados como inaceptables (`unacc`), 384 coches (22.222 %) clasificados como aceptables (`acc`), 69 coches (3.993 %) clasificados como buenos (`good`) y 65 coches (3.762 %) clasificados como muy buenos (`vgood`).\n",
    "\n",
    "Es conveniente, por tanto, que la separación de los ejemplos se realice de manera estratificada, es decir, intentando mantener la proporción anterior tanto en el conjunto de entrenamiento como en el de prueba.\n",
    "\n",
    "Para dividir un conjunto de datos en un subconjunto de entrenamiento y otro de prueba, _sklearn_ proporciona la función `train_test_split`."
   ]
  },
  {
   "cell_type": "code",
   "execution_count": 5,
   "metadata": {
    "collapsed": false,
    "jupyter": {
     "outputs_hidden": false
    }
   },
   "outputs": [
    {
     "name": "stdout",
     "output_type": "stream",
     "text": [
      "1728\n",
      "unacc    0.700231\n",
      "acc      0.222222\n",
      "good     0.039931\n",
      "vgood    0.037616\n",
      "Name: acceptability, dtype: float64\n",
      "571 571 570.24\n",
      "unacc    0.700525\n",
      "acc      0.222417\n",
      "good     0.040280\n",
      "vgood    0.036778\n",
      "dtype: float64\n",
      "1157 1157 1157.76\n",
      "2    0.700086\n",
      "0    0.222126\n",
      "1    0.039758\n",
      "3    0.038029\n",
      "dtype: float64\n"
     ]
    }
   ],
   "source": [
    "from sklearn import model_selection\n",
    "\n",
    "print(cars.shape[0])  # Cantidad total de ejemplos\n",
    "print(pandas.Series(objetivo).value_counts(normalize=True))  # Frecuencia total de cada clase de aceptabilidad\n",
    "\n",
    "atributos_entrenamiento, atributos_prueba, objetivo_entrenamiento, objetivo_prueba = model_selection.train_test_split(\n",
    "    atributos_codificados, objetivo_codificado,  # Conjuntos de datos a dividir, usando los mismos índices para ambos\n",
    "    random_state=12345,  # Valor de la semilla aleatoria, para que el muestreo sea reproducible, a pesar de ser aleatorio\n",
    "    test_size=.33,  # Tamaño del conjunto de prueba\n",
    "    stratify=objetivo_codificado)  # Estratificamos respecto a la distribución de valores en la variable objetivo\n",
    "\n",
    "# Comprobamos que el conjunto de prueba contiene el 33 % de los datos, en la misma proporción\n",
    "# con respecto a la variable objetivo\n",
    "print(atributos_prueba.shape[0],\n",
    "      len(objetivo_prueba),\n",
    "      1728 * .33)\n",
    "print(pandas.Series(codificador_objetivo.inverse_transform(objetivo_prueba)).value_counts(normalize=True))\n",
    "\n",
    "# Comprobamos que el conjunto de entrenamiento contiene el resto de los datos, en la misma\n",
    "# proporción con respecto a la variable objetivo\n",
    "print(atributos_entrenamiento.shape[0],\n",
    "      len(objetivo_entrenamiento),\n",
    "      1728 * .67)\n",
    "print(pandas.Series(objetivo_entrenamiento).value_counts(normalize=True))"
   ]
  },
  {
   "cell_type": "markdown",
   "metadata": {},
   "source": [
    "Para realizar aprendizaje supervisado en _sklearn_ basta crear una instancia de la clase de objetos que implemente el modelo que se quiera utilizar (árboles de decisión, _naive_ Bayes, _kNN_, etc.).\n",
    "\n",
    "Cada una de estas instancias dispondrá de los siguientes métodos:\n",
    "* El método `fit` permite entrenar el modelo, dados __por separado__ el conjunto de ejemplos de entrenamiento y la clase de cada uno de estos ejemplos.\n",
    "* El método `predict` permite clasificar un nuevo ejemplo una vez entrenado el modelo.\n",
    "* El método `score` calcula el rendimiento del modelo, dados __por separado__ el conjunto de ejemplos de prueba y la clase de cada uno de estos ejemplos."
   ]
  },
  {
   "cell_type": "markdown",
   "metadata": {},
   "source": [
    "### Árboles de decisión"
   ]
  },
  {
   "cell_type": "markdown",
   "metadata": {},
   "source": [
    "_sklearn_ implementa los árboles de decisión clasificadores como instancias de la clase `DecisionTreeClassifier`.\n",
    "\n",
    "Desafortunadamente, son árboles de decisión binarios construidos asumiendo atributos continuos y mediante un algoritmo distinto a _ID3_, que no está implementado.\n",
    "\n",
    "En http://scikit-learn.org/stable/modules/tree.html se puede encontrar información acerca de los árboles de decisión implementados en _sklearn_."
   ]
  },
  {
   "cell_type": "markdown",
   "metadata": {},
   "source": [
    "### _Naive_ Bayes"
   ]
  },
  {
   "cell_type": "markdown",
   "metadata": {},
   "source": [
    "_sklearn_ implementa _naive_ Bayes para atributos categóricos mediante instancias de la clase `CategoricalNB`."
   ]
  },
  {
   "cell_type": "code",
   "execution_count": 58,
   "metadata": {
    "collapsed": false,
    "jupyter": {
     "outputs_hidden": false
    }
   },
   "outputs": [
    {
     "data": {
      "text/plain": [
       "CategoricalNB()"
      ]
     },
     "execution_count": 58,
     "metadata": {},
     "output_type": "execute_result"
    }
   ],
   "source": [
    "from sklearn import naive_bayes\n",
    "\n",
    "clasif_NB = naive_bayes.CategoricalNB(alpha=1.0)  # alpha es el parámetro de suavizado\n",
    "clasif_NB.fit(atributos_entrenamiento, objetivo_entrenamiento)"
   ]
  },
  {
   "cell_type": "markdown",
   "metadata": {},
   "source": [
    "Las siguientes expresiones muestran las cuentas realizadas y (los logaritmos de) las probabilidades aprendidas por el modelo."
   ]
  },
  {
   "cell_type": "code",
   "execution_count": 7,
   "metadata": {
    "collapsed": false,
    "jupyter": {
     "outputs_hidden": false
    }
   },
   "outputs": [
    {
     "name": "stdout",
     "output_type": "stream",
     "text": [
      "[257.  46. 810.  44.]\n",
      "[-1.50450964 -3.22494433 -0.35655148 -3.26939609]\n",
      "[array([[ 69.,  64.,  70.,  54.],\n",
      "       [  0.,  29.,  17.,   0.],\n",
      "       [230., 177., 174., 229.],\n",
      "       [  0.,  26.,  18.,   0.]]), array([[ 62.,  65.,  78.,  52.],\n",
      "       [  0.,  33.,  13.,   0.],\n",
      "       [205., 186., 174., 245.],\n",
      "       [ 12.,  17.,  15.,   0.]]), array([[ 54.,  60.,  77.,  66.],\n",
      "       [ 11.,  13.,  13.,   9.],\n",
      "       [218., 207., 199., 186.],\n",
      "       [  7.,  11.,  11.,  15.]]), array([[  0., 131., 126.],\n",
      "       [  0.,  23.,  23.],\n",
      "       [377., 217., 216.],\n",
      "       [  0.,  20.,  24.]]), array([[ 96.,  97.,  64.],\n",
      "       [ 17.,  14.,  15.],\n",
      "       [247., 273., 290.],\n",
      "       [ 26.,  18.,   0.]]), array([[142.,   0., 115.],\n",
      "       [ 22.,   0.,  24.],\n",
      "       [178., 395., 237.],\n",
      "       [ 44.,   0.,   0.]])]\n",
      "[array([[-1.31602517, -1.39013314, -1.30184053, -1.55718722],\n",
      "       [-3.91202301, -0.51082562, -1.02165125, -3.91202301],\n",
      "       [-1.25954266, -1.52017682, -1.53717439, -1.26388106],\n",
      "       [-3.87120101, -0.57536414, -0.92676203, -3.87120101]]), array([[-1.42138568, -1.37486567, -1.19507255, -1.59422849],\n",
      "       [-3.91202301, -0.38566248, -1.27296568, -3.91202301],\n",
      "       [-1.3740842 , -1.47085175, -1.53717439, -1.19662883],\n",
      "       [-1.30625165, -0.98082925, -1.09861229, -3.87120101]]), array([[-1.55718722, -1.45364654, -1.20781158, -1.35982779],\n",
      "       [-1.42711636, -1.27296568, -1.27296568, -1.60943791],\n",
      "       [-1.31288864, -1.36442229, -1.403643  , -1.47085175],\n",
      "       [-1.79175947, -1.38629436, -1.38629436, -1.09861229]]), array([[-5.56068163, -0.67787971, -0.71649454],\n",
      "       [-3.8918203 , -0.71376647, -0.71376647],\n",
      "       [-0.76583691, -1.31623605, -1.32083376],\n",
      "       [-3.8501476 , -0.80562516, -0.63127178]]), array([[-0.98597065, -0.97571415, -1.38629436],\n",
      "       [-1.00144854, -1.1837701 , -1.11923158],\n",
      "       [-1.18730236, -1.087603  , -1.02740784],\n",
      "       [-0.55431074, -0.90570862, -3.8501476 ]]), array([[-0.597837  , -5.56068163, -0.80709144],\n",
      "       [-0.75632608, -3.8918203 , -0.67294447],\n",
      "       [-1.5133453 , -0.7193169 , -1.22846044],\n",
      "       [-0.04348511, -3.8501476 , -3.8501476 ]])]\n"
     ]
    }
   ],
   "source": [
    "print(clasif_NB.class_count_)\n",
    "print(clasif_NB.class_log_prior_)\n",
    "print(clasif_NB.category_count_)\n",
    "print(clasif_NB.feature_log_prob_)"
   ]
  },
  {
   "cell_type": "markdown",
   "metadata": {},
   "source": [
    "El método `predict` devuelve la clase predicha por el modelo para un nuevo ejemplo y el método `score` la exactitud (_accuracy_) media sobre un conjunto de datos de prueba."
   ]
  },
  {
   "cell_type": "code",
   "execution_count": 8,
   "metadata": {
    "collapsed": false,
    "jupyter": {
     "outputs_hidden": false
    }
   },
   "outputs": [
    {
     "data": {
      "text/plain": [
       "array(['unacc', 'unacc'], dtype=object)"
      ]
     },
     "execution_count": 8,
     "metadata": {},
     "output_type": "execute_result"
    }
   ],
   "source": [
    "nuevos_ejemplos = [['vhigh', 'vhigh', '3', 'more', 'big', 'high'],\n",
    "                   ['high', 'low', '3', '2', 'med', 'med']]\n",
    "codificador_objetivo.inverse_transform(clasif_NB.predict(codificador_atributos.transform(nuevos_ejemplos)))"
   ]
  },
  {
   "cell_type": "code",
   "execution_count": 9,
   "metadata": {
    "collapsed": false,
    "jupyter": {
     "outputs_hidden": false
    }
   },
   "outputs": [
    {
     "data": {
      "text/plain": [
       "0.8441330998248686"
      ]
     },
     "execution_count": 9,
     "metadata": {},
     "output_type": "execute_result"
    }
   ],
   "source": [
    "# Calculamos la fracción de clases correctamente predichas para el conjunto de datos de prueba\n",
    "clasif_NB.score(atributos_prueba, objetivo_prueba)"
   ]
  },
  {
   "cell_type": "markdown",
   "metadata": {},
   "source": [
    "### kNN"
   ]
  },
  {
   "cell_type": "markdown",
   "metadata": {},
   "source": [
    "_sklearn_ implementa _kNN_ como instancias de la clase `KNeighborsClassifier`. En http://scikit-learn.org/stable/modules/generated/sklearn.neighbors.DistanceMetric.html se puede encontrar una descripción de las distancias actualmente implementadas que se podrían usar."
   ]
  },
  {
   "cell_type": "code",
   "execution_count": 10,
   "metadata": {
    "collapsed": false,
    "jupyter": {
     "outputs_hidden": false
    }
   },
   "outputs": [],
   "source": [
    "from sklearn import neighbors\n",
    "\n",
    "clasif_kNN = neighbors.KNeighborsClassifier(n_neighbors=5, metric='hamming')"
   ]
  },
  {
   "cell_type": "markdown",
   "metadata": {},
   "source": [
    "Entrenamos el modelo."
   ]
  },
  {
   "cell_type": "code",
   "execution_count": 11,
   "metadata": {
    "collapsed": false,
    "jupyter": {
     "outputs_hidden": false
    }
   },
   "outputs": [
    {
     "data": {
      "text/plain": [
       "KNeighborsClassifier(metric='hamming')"
      ]
     },
     "execution_count": 11,
     "metadata": {},
     "output_type": "execute_result"
    }
   ],
   "source": [
    "clasif_kNN.fit(atributos_entrenamiento, objetivo_entrenamiento)"
   ]
  },
  {
   "cell_type": "markdown",
   "metadata": {},
   "source": [
    "El método `kneighbors` permite encontrar los (índices de los) $k$ vecinos más cercanos de los ejemplos proporcionados, así como las distancias a las que se encuentran."
   ]
  },
  {
   "cell_type": "code",
   "execution_count": 12,
   "metadata": {
    "collapsed": false,
    "jupyter": {
     "outputs_hidden": false
    }
   },
   "outputs": [
    {
     "name": "stdout",
     "output_type": "stream",
     "text": [
      "['vhigh', 'vhigh', '3', 'more', 'big', 'high']\n",
      "[['high' 'vhigh' '3' 'more' 'big' 'high']\n",
      " ['vhigh' 'med' '3' 'more' 'big' 'high']\n",
      " ['med' 'vhigh' '3' 'more' 'big' 'high']\n",
      " ['low' 'vhigh' '3' 'more' 'big' 'high']\n",
      " ['vhigh' 'low' '3' 'more' 'big' 'high']]\n",
      "[0.16666667 0.16666667 0.16666667 0.16666667 0.16666667]\n",
      "['unacc' 'acc' 'acc' 'acc' 'acc']\n",
      "['high', 'low', '3', '2', 'med', 'med']\n",
      "[['high' 'low' '3' '2' 'med' 'med']\n",
      " ['high' 'low' '3' '2' 'big' 'med']\n",
      " ['high' 'low' '3' '2' 'med' 'low']\n",
      " ['high' 'low' '3' '2' 'med' 'high']\n",
      " ['low' 'low' '3' '2' 'med' 'med']]\n",
      "[0.         0.16666667 0.16666667 0.16666667 0.16666667]\n",
      "['unacc' 'unacc' 'unacc' 'unacc' 'unacc']\n"
     ]
    }
   ],
   "source": [
    "distancias, vecinos = clasif_kNN.kneighbors(codificador_atributos.transform(nuevos_ejemplos))\n",
    "\n",
    "# Vecinos más cercanos y distancia a ellos del primer ejemplo nuevo\n",
    "print(nuevos_ejemplos[0])\n",
    "print(codificador_atributos.inverse_transform(atributos_entrenamiento[vecinos[0]]))\n",
    "print(distancias[0])\n",
    "print(codificador_objetivo.inverse_transform(objetivo_entrenamiento[vecinos[0]]))\n",
    "\n",
    "# Vecinos más cercanos y distancia a ellos del segundo ejemplo nuevo\n",
    "print(nuevos_ejemplos[1])\n",
    "print(codificador_atributos.inverse_transform(atributos_entrenamiento[vecinos[1]]))\n",
    "print(distancias[1])\n",
    "print(codificador_objetivo.inverse_transform(objetivo_entrenamiento[vecinos[1]]))"
   ]
  },
  {
   "cell_type": "markdown",
   "metadata": {},
   "source": [
    "El método `predict` devuelve la clase predicha por el modelo para un nuevo ejemplo y el método `score` la exactitud (_accuracy_) media sobre un conjunto de datos de prueba."
   ]
  },
  {
   "cell_type": "code",
   "execution_count": 13,
   "metadata": {
    "collapsed": false,
    "jupyter": {
     "outputs_hidden": false
    }
   },
   "outputs": [
    {
     "data": {
      "text/plain": [
       "array(['acc', 'unacc'], dtype=object)"
      ]
     },
     "execution_count": 13,
     "metadata": {},
     "output_type": "execute_result"
    }
   ],
   "source": [
    "codificador_objetivo.inverse_transform(clasif_kNN.predict(codificador_atributos.transform(nuevos_ejemplos)))"
   ]
  },
  {
   "cell_type": "code",
   "execution_count": 14,
   "metadata": {
    "collapsed": false,
    "jupyter": {
     "outputs_hidden": false
    }
   },
   "outputs": [
    {
     "data": {
      "text/plain": [
       "0.8879159369527145"
      ]
     },
     "execution_count": 14,
     "metadata": {},
     "output_type": "execute_result"
    }
   ],
   "source": [
    "clasif_kNN.score(atributos_prueba, objetivo_prueba)"
   ]
  },
  {
   "cell_type": "markdown",
   "metadata": {},
   "source": [
    "## Solicitudes de admisión en guarderías"
   ]
  },
  {
   "cell_type": "markdown",
   "metadata": {},
   "source": [
    "El fichero de datos `nursery.csv` proporciona un conjunto de datos acerca de la evaluación de solicitudes de admisión en guarderías, en función de los siguientes atributos:\n",
    "* _parents_, con posibles valores: `usual`, `pretentious`, `great_pret`.\n",
    "* _has\\_nurs_, con posibles valores: `proper`, `less_proper`, `improper`, `critical`, `very_crit`.\n",
    "* _form_, con posibles valores: `complete`, `completed`, `incomplete`, `foster`.\n",
    "* _children_, con posibles valores: `1`, `2`, `3`, `more`.\n",
    "* _housing_, con posibles valores: `convenient`, `less_conv`, `critical`.\n",
    "* _finance_, con posibles valores: `convenient`, `inconv`.\n",
    "* _social_, con posibles valores: `non-prob`, `slightly_prob`, `problematic`.\n",
    "* _health_, con posibles valores: `recommended`, `priority`, `not_recom`.\n",
    "\n",
    "Los datos provienen de un sistema experto de decisión usado durante varios años de la década de los 80 en Liubliana (Eslovenia), que se desarrolló para poder proporcionar una explicación objetiva a las solicitudes rechazadas.\n",
    "\n",
    "La evaluación de cada solicitud se indica mediante el atributo _evaluation_, que los clasifica como `not_recom`, `recommend`, `very_recom`, `priority` o `spec_prior`.\n",
    "\n",
    "El objetivo es aprender a partir de los datos un modelo que prediga de la mejor forma posible cómo se evaluará una solicitud de admisión a partir de los valores de los atributos anteriores. Para ello se pide seguir los siguientes pasos:"
   ]
  },
  {
   "cell_type": "markdown",
   "metadata": {},
   "source": [
    "* Leer los datos a partir del fichero `nursery.csv`."
   ]
  },
  {
   "cell_type": "code",
   "execution_count": 2,
   "metadata": {
    "collapsed": false,
    "jupyter": {
     "outputs_hidden": false
    }
   },
   "outputs": [
    {
     "name": "stdout",
     "output_type": "stream",
     "text": [
      "(12958, 9)\n"
     ]
    },
    {
     "data": {
      "text/html": [
       "<div>\n",
       "<style scoped>\n",
       "    .dataframe tbody tr th:only-of-type {\n",
       "        vertical-align: middle;\n",
       "    }\n",
       "\n",
       "    .dataframe tbody tr th {\n",
       "        vertical-align: top;\n",
       "    }\n",
       "\n",
       "    .dataframe thead th {\n",
       "        text-align: right;\n",
       "    }\n",
       "</style>\n",
       "<table border=\"1\" class=\"dataframe\">\n",
       "  <thead>\n",
       "    <tr style=\"text-align: right;\">\n",
       "      <th></th>\n",
       "      <th>parents</th>\n",
       "      <th>has_nurs</th>\n",
       "      <th>form</th>\n",
       "      <th>children</th>\n",
       "      <th>housing</th>\n",
       "      <th>finance</th>\n",
       "      <th>social</th>\n",
       "      <th>health</th>\n",
       "      <th>evaluation</th>\n",
       "    </tr>\n",
       "  </thead>\n",
       "  <tbody>\n",
       "    <tr>\n",
       "      <th>0</th>\n",
       "      <td>usual</td>\n",
       "      <td>proper</td>\n",
       "      <td>complete</td>\n",
       "      <td>1</td>\n",
       "      <td>convenient</td>\n",
       "      <td>convenient</td>\n",
       "      <td>nonprob</td>\n",
       "      <td>priority</td>\n",
       "      <td>priority</td>\n",
       "    </tr>\n",
       "    <tr>\n",
       "      <th>1</th>\n",
       "      <td>usual</td>\n",
       "      <td>proper</td>\n",
       "      <td>complete</td>\n",
       "      <td>1</td>\n",
       "      <td>convenient</td>\n",
       "      <td>convenient</td>\n",
       "      <td>nonprob</td>\n",
       "      <td>not_recom</td>\n",
       "      <td>not_recom</td>\n",
       "    </tr>\n",
       "    <tr>\n",
       "      <th>2</th>\n",
       "      <td>usual</td>\n",
       "      <td>proper</td>\n",
       "      <td>complete</td>\n",
       "      <td>1</td>\n",
       "      <td>convenient</td>\n",
       "      <td>convenient</td>\n",
       "      <td>slightly_prob</td>\n",
       "      <td>priority</td>\n",
       "      <td>priority</td>\n",
       "    </tr>\n",
       "    <tr>\n",
       "      <th>3</th>\n",
       "      <td>usual</td>\n",
       "      <td>proper</td>\n",
       "      <td>complete</td>\n",
       "      <td>1</td>\n",
       "      <td>convenient</td>\n",
       "      <td>convenient</td>\n",
       "      <td>slightly_prob</td>\n",
       "      <td>not_recom</td>\n",
       "      <td>not_recom</td>\n",
       "    </tr>\n",
       "    <tr>\n",
       "      <th>4</th>\n",
       "      <td>usual</td>\n",
       "      <td>proper</td>\n",
       "      <td>complete</td>\n",
       "      <td>1</td>\n",
       "      <td>convenient</td>\n",
       "      <td>convenient</td>\n",
       "      <td>problematic</td>\n",
       "      <td>recommended</td>\n",
       "      <td>priority</td>\n",
       "    </tr>\n",
       "    <tr>\n",
       "      <th>5</th>\n",
       "      <td>usual</td>\n",
       "      <td>proper</td>\n",
       "      <td>complete</td>\n",
       "      <td>1</td>\n",
       "      <td>convenient</td>\n",
       "      <td>convenient</td>\n",
       "      <td>problematic</td>\n",
       "      <td>priority</td>\n",
       "      <td>priority</td>\n",
       "    </tr>\n",
       "    <tr>\n",
       "      <th>6</th>\n",
       "      <td>usual</td>\n",
       "      <td>proper</td>\n",
       "      <td>complete</td>\n",
       "      <td>1</td>\n",
       "      <td>convenient</td>\n",
       "      <td>convenient</td>\n",
       "      <td>problematic</td>\n",
       "      <td>not_recom</td>\n",
       "      <td>not_recom</td>\n",
       "    </tr>\n",
       "    <tr>\n",
       "      <th>7</th>\n",
       "      <td>usual</td>\n",
       "      <td>proper</td>\n",
       "      <td>complete</td>\n",
       "      <td>1</td>\n",
       "      <td>convenient</td>\n",
       "      <td>inconv</td>\n",
       "      <td>nonprob</td>\n",
       "      <td>recommended</td>\n",
       "      <td>very_recom</td>\n",
       "    </tr>\n",
       "    <tr>\n",
       "      <th>8</th>\n",
       "      <td>usual</td>\n",
       "      <td>proper</td>\n",
       "      <td>complete</td>\n",
       "      <td>1</td>\n",
       "      <td>convenient</td>\n",
       "      <td>inconv</td>\n",
       "      <td>nonprob</td>\n",
       "      <td>priority</td>\n",
       "      <td>priority</td>\n",
       "    </tr>\n",
       "    <tr>\n",
       "      <th>9</th>\n",
       "      <td>usual</td>\n",
       "      <td>proper</td>\n",
       "      <td>complete</td>\n",
       "      <td>1</td>\n",
       "      <td>convenient</td>\n",
       "      <td>inconv</td>\n",
       "      <td>nonprob</td>\n",
       "      <td>not_recom</td>\n",
       "      <td>not_recom</td>\n",
       "    </tr>\n",
       "  </tbody>\n",
       "</table>\n",
       "</div>"
      ],
      "text/plain": [
       "  parents has_nurs      form children     housing     finance         social  \\\n",
       "0   usual   proper  complete        1  convenient  convenient        nonprob   \n",
       "1   usual   proper  complete        1  convenient  convenient        nonprob   \n",
       "2   usual   proper  complete        1  convenient  convenient  slightly_prob   \n",
       "3   usual   proper  complete        1  convenient  convenient  slightly_prob   \n",
       "4   usual   proper  complete        1  convenient  convenient    problematic   \n",
       "5   usual   proper  complete        1  convenient  convenient    problematic   \n",
       "6   usual   proper  complete        1  convenient  convenient    problematic   \n",
       "7   usual   proper  complete        1  convenient      inconv        nonprob   \n",
       "8   usual   proper  complete        1  convenient      inconv        nonprob   \n",
       "9   usual   proper  complete        1  convenient      inconv        nonprob   \n",
       "\n",
       "        health  evaluation  \n",
       "0     priority    priority  \n",
       "1    not_recom   not_recom  \n",
       "2     priority    priority  \n",
       "3    not_recom   not_recom  \n",
       "4  recommended    priority  \n",
       "5     priority    priority  \n",
       "6    not_recom   not_recom  \n",
       "7  recommended  very_recom  \n",
       "8     priority    priority  \n",
       "9    not_recom   not_recom  "
      ]
     },
     "execution_count": 2,
     "metadata": {},
     "output_type": "execute_result"
    }
   ],
   "source": [
    "import pandas\n",
    "import numpy\n",
    "\n",
    "nursery = pandas.read_csv('nursery.csv', header=None,\n",
    "                       names=['parents', 'has_nurs', 'form', 'children',\n",
    "                              'housing', 'finance', 'social', 'health', 'evaluation'])\n",
    "print(nursery.shape)  # Número de filas y columnas\n",
    "nursery.head(10)  # 10 primeras filas"
   ]
  },
  {
   "cell_type": "markdown",
   "metadata": {},
   "source": [
    "* Codificar los datos con números enteros."
   ]
  },
  {
   "cell_type": "code",
   "execution_count": 3,
   "metadata": {
    "collapsed": false,
    "jupyter": {
     "outputs_hidden": false
    }
   },
   "outputs": [],
   "source": [
    "from sklearn import preprocessing\n",
    "\n",
    "atributos2 = nursery.loc[:, 'parents':'health']  # selección de las columnas de atributos\n",
    "objetivo2 = nursery['evaluation']  # selección de la columna objetivo"
   ]
  },
  {
   "cell_type": "code",
   "execution_count": 4,
   "metadata": {},
   "outputs": [
    {
     "name": "stdout",
     "output_type": "stream",
     "text": [
      "[array(['great_pret', 'pretentious', 'usual'], dtype=object), array(['critical', 'improper', 'less_proper', 'proper', 'very_crit'],\n",
      "      dtype=object), array(['complete', 'completed', 'foster', 'incomplete'], dtype=object), array(['1', '2', '3', 'more'], dtype=object), array(['convenient', 'critical', 'less_conv'], dtype=object), array(['convenient', 'inconv'], dtype=object), array(['nonprob', 'problematic', 'slightly_prob'], dtype=object), array(['not_recom', 'priority', 'recommended'], dtype=object)]\n",
      "[[2. 3. 0. ... 0. 0. 1.]\n",
      " [2. 3. 0. ... 0. 0. 0.]\n",
      " [2. 3. 0. ... 0. 2. 1.]\n",
      " ...\n",
      " [0. 4. 2. ... 1. 1. 2.]\n",
      " [0. 4. 2. ... 1. 1. 1.]\n",
      " [0. 4. 2. ... 1. 1. 0.]]\n"
     ]
    }
   ],
   "source": [
    "# El codificador adecuado para los atributos es OrdinalEncoder, ya que permite trabajar con el array completo de valores de los atributos.\n",
    "codificador_atributos2 = preprocessing.OrdinalEncoder()\n",
    "codificador_atributos2.fit(atributos2)\n",
    "print(codificador_atributos2.categories_)  # Categorías detectadas por el codificador para cada atributo\n",
    "atributos_codificados2 = codificador_atributos2.transform(atributos2)\n",
    "print(atributos_codificados2)"
   ]
  },
  {
   "cell_type": "code",
   "execution_count": 5,
   "metadata": {},
   "outputs": [
    {
     "name": "stdout",
     "output_type": "stream",
     "text": [
      "['not_recom' 'priority' 'spec_prior' 'very_recom']\n",
      "[1 0 1 ... 2 2 0]\n",
      "['spec_prior' 'priority' 'very_recom']\n"
     ]
    }
   ],
   "source": [
    "# El codificador adecuado para la variable objetivo es LabelEncoder, que trabaja con la lista de sus valores, en lugar de con un array.\n",
    "codificador_objetivo2 = preprocessing.LabelEncoder()\n",
    "objetivo_codificado2 = codificador_objetivo2.fit_transform(objetivo2)  # El método fit_transform ajusta la codificación y la aplica a los datos a continuación\n",
    "print(codificador_objetivo2.classes_)  # Clases detectadas por el codificador para la variable objetivo\n",
    "print(objetivo_codificado2)\n",
    "print(codificador_objetivo2.inverse_transform([2, 1, 3]))"
   ]
  },
  {
   "cell_type": "markdown",
   "metadata": {},
   "source": [
    "* Dividir el conjunto de datos en un subconjunto de entrenamiento (80 % de los datos) y un subconjunto de prueba (20 % de los datos). El primero de ellos se utilizará tanto para seleccionar un tipo de modelo utilizando la técnica de validación cruzada, como para entrenar el modelo finalmente seleccionado. El segundo se utilizará para medir la capacidad de generalización de este último."
   ]
  },
  {
   "cell_type": "code",
   "execution_count": 6,
   "metadata": {
    "collapsed": false,
    "jupyter": {
     "outputs_hidden": false
    }
   },
   "outputs": [
    {
     "name": "stdout",
     "output_type": "stream",
     "text": [
      "12958\n",
      "not_recom     0.333385\n",
      "priority      0.329217\n",
      "spec_prior    0.312085\n",
      "very_recom    0.025313\n",
      "Name: evaluation, dtype: float64\n",
      "2592 2592 345.6\n",
      "not_recom     0.333333\n",
      "priority      0.329090\n",
      "spec_prior    0.312114\n",
      "very_recom    0.025463\n",
      "dtype: float64\n",
      "10366 10366 1382.4\n",
      "0    0.333398\n",
      "1    0.329249\n",
      "2    0.312078\n",
      "3    0.025275\n",
      "dtype: float64\n"
     ]
    }
   ],
   "source": [
    "from sklearn import model_selection\n",
    "\n",
    "print(nursery.shape[0])  # Cantidad total de ejemplos\n",
    "print(pandas.Series(objetivo2).value_counts(normalize=True))  # Frecuencia total de cada clase de aceptabilidad\n",
    "\n",
    "atributos_entrenamiento2, atributos_prueba2, objetivo_entrenamiento2, objetivo_prueba2 = model_selection.train_test_split(\n",
    "    atributos_codificados2, objetivo_codificado2,  # Conjuntos de datos a dividir, usando los mismos índices para ambos\n",
    "    random_state=12345,  # Valor de la semilla aleatoria, para que el muestreo sea reproducible, a pesar de ser aleatorio\n",
    "    test_size=.20,  # Tamaño del conjunto de prueba\n",
    "    stratify=objetivo_codificado2)  # Estratificamos respecto a la distribución de valores en la variable objetivo\n",
    "\n",
    "# Comprobamos que el conjunto de prueba contiene el 33 % de los datos, en la misma proporción\n",
    "# con respecto a la variable objetivo\n",
    "print(atributos_prueba2.shape[0],\n",
    "      len(objetivo_prueba2),\n",
    "      1728 * .20)\n",
    "print(pandas.Series(codificador_objetivo2.inverse_transform(objetivo_prueba2)).value_counts(normalize=True))\n",
    "\n",
    "# Comprobamos que el conjunto de entrenamiento contiene el resto de los datos, en la misma\n",
    "# proporción con respecto a la variable objetivo\n",
    "print(atributos_entrenamiento2.shape[0],\n",
    "      len(objetivo_entrenamiento2),\n",
    "      1728 * .80)\n",
    "print(pandas.Series(objetivo_entrenamiento2).value_counts(normalize=True))"
   ]
  },
  {
   "cell_type": "markdown",
   "metadata": {},
   "source": [
    "* Usando el subconjunto de entrenamiento y utilizando la técnica de validación cruzada con 10 particiones, estimar la exactitud (_accuracy_) media de un modelo de tipo _naive_ Bayes con suavizado ɑ, para cada uno de los valores ɑ = 1, ..., 10, y de un modelo de tipo kNN, para cada uno de los valores k = 1, ..., 10."
   ]
  },
  {
   "cell_type": "markdown",
   "metadata": {},
   "source": [
    "__Nota__: la función `cross_val_score` del módulo `model_selection` de _sklearn_ implementa el procedimiento de validación cruzada. Admite, entre otros, los siguientes argumentos:\n",
    "* _estimator_: modelo a evaluar.\n",
    "* _X_: array con los valores de los atributos de los ejemplos.\n",
    "* _y_: array con las clasificaciones de los ejemplos.\n",
    "* _cv_: número de subconjuntos en los que dividir los datos.\n",
    "\n",
    "Devuelve un array con el rendimiento del modelo sobre cada subconjunto, una vez entrenado con los ejemplos del resto de subconjuntos.\n",
    "\n",
    "Para más información acerca de la implementación en _sklearn_ del método de validación cruzada puede consultarse http://scikit-learn.org/stable/modules/cross_validation.html."
   ]
  },
  {
   "cell_type": "code",
   "execution_count": 7,
   "metadata": {},
   "outputs": [],
   "source": [
    "nuevos_ejemplos2 = [['usual', 'proper','completed','2', 'convenient', 'inconv', 'slightly_prob','recommended'],\n",
    "                   ['usual', 'proper', 'complete','1', 'critical', 'convenient', 'nonprob','priority']]"
   ]
  },
  {
   "cell_type": "code",
   "execution_count": 19,
   "metadata": {
    "collapsed": false,
    "jupyter": {
     "outputs_hidden": false
    }
   },
   "outputs": [
    {
     "name": "stdout",
     "output_type": "stream",
     "text": [
      "[0.82716049 0.91820988 0.81481481 0.8287037  0.8433642  0.66358025\n",
      " 0.78240741 0.80555556 0.93513514 0.8007722 ]\n",
      "[0.82561728 0.91743827 0.81481481 0.8287037  0.8433642  0.66358025\n",
      " 0.78317901 0.80555556 0.93513514 0.8007722 ]\n",
      "[0.82098765 0.91666667 0.81481481 0.8287037  0.8433642  0.66358025\n",
      " 0.78395062 0.80709877 0.93513514 0.8007722 ]\n",
      "[0.81944444 0.91666667 0.8132716  0.8287037  0.8433642  0.66358025\n",
      " 0.78395062 0.80709877 0.93513514 0.8007722 ]\n",
      "[0.81944444 0.91512346 0.8132716  0.8287037  0.8433642  0.66358025\n",
      " 0.78395062 0.80709877 0.93513514 0.8007722 ]\n",
      "[0.81944444 0.91512346 0.8132716  0.8287037  0.8433642  0.66358025\n",
      " 0.78395062 0.80709877 0.93513514 0.8007722 ]\n",
      "[0.81944444 0.91512346 0.8132716  0.8287037  0.8433642  0.66358025\n",
      " 0.78549383 0.80709877 0.93513514 0.8007722 ]\n",
      "[0.81944444 0.91512346 0.8132716  0.8287037  0.8441358  0.66358025\n",
      " 0.78549383 0.80709877 0.93513514 0.8007722 ]\n",
      "[0.81944444 0.91512346 0.8132716  0.8287037  0.84490741 0.66358025\n",
      " 0.78626543 0.80709877 0.93513514 0.8007722 ]\n"
     ]
    }
   ],
   "source": [
    "from sklearn import naive_bayes\n",
    "\n",
    "for a in range(1,10):\n",
    "    clasif_NB = naive_bayes.CategoricalNB(alpha=a)  # alpha es el parámetro de suavizado\n",
    "    clasif_NB.fit(atributos_entrenamiento2, objetivo_entrenamiento2)\n",
    "    codificador_objetivo2.inverse_transform(clasif_NB.predict(codificador_atributos2.transform(nuevos_ejemplos2)))\n",
    "    clasif_NB.score(atributos_prueba2, objetivo_prueba2)\n",
    "    rend = model_selection.cross_val_score(\n",
    "        clasif_NB.fit(atributos_entrenamiento2, objetivo_entrenamiento2),\n",
    "        atributos_codificados2,\n",
    "        objetivo_codificado2, \n",
    "        cv=10)\n",
    "    print(rend)\n"
   ]
  },
  {
   "cell_type": "code",
   "execution_count": 18,
   "metadata": {},
   "outputs": [
    {
     "ename": "AttributeError",
     "evalue": "'numpy.ndarray' object has no attribute 'score'",
     "output_type": "error",
     "traceback": [
      "\u001b[1;31m---------------------------------------------------------------------------\u001b[0m",
      "\u001b[1;31mAttributeError\u001b[0m                            Traceback (most recent call last)",
      "\u001b[1;32m<ipython-input-18-bc2481607a69>\u001b[0m in \u001b[0;36m<module>\u001b[1;34m\u001b[0m\n\u001b[1;32m----> 1\u001b[1;33m \u001b[0mrend\u001b[0m\u001b[1;33m.\u001b[0m\u001b[0mscore\u001b[0m\u001b[1;33m(\u001b[0m\u001b[0matributos_prueba2\u001b[0m\u001b[1;33m,\u001b[0m \u001b[0mobjetivo_prueba2\u001b[0m\u001b[1;33m)\u001b[0m\u001b[1;33m\u001b[0m\u001b[1;33m\u001b[0m\u001b[0m\n\u001b[0m",
      "\u001b[1;31mAttributeError\u001b[0m: 'numpy.ndarray' object has no attribute 'score'"
     ]
    }
   ],
   "source": [
    "rend.score(atributos_prueba2, objetivo_prueba2)"
   ]
  },
  {
   "cell_type": "code",
   "execution_count": 11,
   "metadata": {},
   "outputs": [
    {
     "name": "stdout",
     "output_type": "stream",
     "text": [
      "[0.81944444 0.91512346 0.8132716  0.8287037  0.84490741 0.66358025\n",
      " 0.78626543 0.80709877 0.93513514 0.8007722 ]\n"
     ]
    }
   ],
   "source": [
    "rend = model_selection.cross_val_score(\n",
    "    clasif_NB.fit(atributos_entrenamiento2, objetivo_entrenamiento2),\n",
    "    atributos_codificados2,\n",
    "    objetivo_codificado2, \n",
    "    cv=10)\n",
    "print(rend)"
   ]
  },
  {
   "cell_type": "markdown",
   "metadata": {},
   "source": [
    "* Con el mejor valor de suavizado determinado anteriormente, entrenar el algoritmo _naive_ Bayes con el subconjunto de entrenamiento y calcular la exactitud media sobre el subconjunto de prueba."
   ]
  },
  {
   "cell_type": "code",
   "execution_count": null,
   "metadata": {
    "collapsed": false,
    "jupyter": {
     "outputs_hidden": false
    }
   },
   "outputs": [],
   "source": []
  },
  {
   "cell_type": "markdown",
   "metadata": {},
   "source": [
    "* Con el mejor número de vecinos determinado anteriormente, entrenar el algoritmo _kNN_ con el subconjunto de entrenamiento y calcular la exactitud media sobre el subconjunto de prueba."
   ]
  },
  {
   "cell_type": "code",
   "execution_count": 14,
   "metadata": {
    "collapsed": false,
    "jupyter": {
     "outputs_hidden": false
    }
   },
   "outputs": [],
   "source": [
    "from sklearn import neighbors\n",
    "\n",
    "clasif_kNN2 = neighbors.KNeighborsClassifier(n_neighbors=10, metric='hamming')"
   ]
  },
  {
   "cell_type": "code",
   "execution_count": 16,
   "metadata": {},
   "outputs": [
    {
     "data": {
      "text/plain": [
       "KNeighborsClassifier(metric='hamming', n_neighbors=10)"
      ]
     },
     "execution_count": 16,
     "metadata": {},
     "output_type": "execute_result"
    }
   ],
   "source": [
    "clasif_kNN2.fit(atributos_entrenamiento2, objetivo_entrenamiento2)"
   ]
  },
  {
   "cell_type": "code",
   "execution_count": 17,
   "metadata": {},
   "outputs": [
    {
     "name": "stdout",
     "output_type": "stream",
     "text": [
      "['usual', 'proper', 'completed', '2', 'convenient', 'inconv', 'slightly_prob', 'recommended']\n",
      "[['usual' 'critical' 'completed' '2' 'convenient' 'inconv'\n",
      "  'slightly_prob' 'recommended']\n",
      " ['usual' 'proper' 'completed' '2' 'convenient' 'inconv' 'problematic'\n",
      "  'recommended']\n",
      " ['usual' 'less_proper' 'completed' '2' 'convenient' 'inconv'\n",
      "  'slightly_prob' 'recommended']\n",
      " ['usual' 'proper' 'complete' '2' 'convenient' 'inconv' 'slightly_prob'\n",
      "  'recommended']\n",
      " ['usual' 'proper' 'completed' '2' 'convenient' 'inconv' 'nonprob'\n",
      "  'recommended']\n",
      " ['pretentious' 'proper' 'completed' '2' 'convenient' 'inconv'\n",
      "  'slightly_prob' 'recommended']\n",
      " ['usual' 'proper' 'completed' '2' 'convenient' 'inconv' 'slightly_prob'\n",
      "  'not_recom']\n",
      " ['great_pret' 'proper' 'completed' '2' 'convenient' 'inconv'\n",
      "  'slightly_prob' 'recommended']\n",
      " ['usual' 'proper' 'completed' '1' 'convenient' 'inconv' 'slightly_prob'\n",
      "  'recommended']\n",
      " ['usual' 'proper' 'completed' '2' 'less_conv' 'inconv' 'slightly_prob'\n",
      "  'recommended']]\n",
      "[0.125 0.125 0.125 0.125 0.125 0.125 0.125 0.125 0.125 0.125]\n",
      "['priority' 'priority' 'very_recom' 'very_recom' 'very_recom' 'very_recom'\n",
      " 'not_recom' 'priority' 'very_recom' 'very_recom']\n",
      "['usual', 'proper', 'complete', '1', 'critical', 'convenient', 'nonprob', 'priority']\n",
      "[['usual' 'proper' 'complete' '1' 'critical' 'convenient' 'nonprob'\n",
      "  'priority']\n",
      " ['usual' 'proper' 'complete' '2' 'critical' 'convenient' 'nonprob'\n",
      "  'priority']\n",
      " ['usual' 'proper' 'complete' '1' 'critical' 'convenient' 'nonprob'\n",
      "  'recommended']\n",
      " ['usual' 'proper' 'complete' '1' 'less_conv' 'convenient' 'nonprob'\n",
      "  'priority']\n",
      " ['great_pret' 'proper' 'complete' '1' 'critical' 'convenient' 'nonprob'\n",
      "  'priority']\n",
      " ['usual' 'proper' 'complete' '1' 'critical' 'inconv' 'nonprob'\n",
      "  'priority']\n",
      " ['usual' 'critical' 'complete' '1' 'critical' 'convenient' 'nonprob'\n",
      "  'priority']\n",
      " ['usual' 'improper' 'complete' '1' 'critical' 'convenient' 'nonprob'\n",
      "  'priority']\n",
      " ['usual' 'less_proper' 'complete' '1' 'critical' 'convenient' 'nonprob'\n",
      "  'priority']\n",
      " ['pretentious' 'proper' 'complete' '1' 'critical' 'convenient' 'nonprob'\n",
      "  'priority']]\n",
      "[0.    0.125 0.125 0.125 0.125 0.125 0.125 0.125 0.125 0.125]\n",
      "['priority' 'priority' 'very_recom' 'priority' 'priority' 'priority'\n",
      " 'priority' 'priority' 'priority' 'priority']\n"
     ]
    }
   ],
   "source": [
    "distancias2, vecinos2 = clasif_kNN2.kneighbors(codificador_atributos2.transform(nuevos_ejemplos2))\n",
    "\n",
    "# Vecinos más cercanos y distancia a ellos del primer ejemplo nuevo\n",
    "print(nuevos_ejemplos2[0])\n",
    "print(codificador_atributos2.inverse_transform(atributos_entrenamiento2[vecinos2[0]]))\n",
    "print(distancias2[0])\n",
    "print(codificador_objetivo2.inverse_transform(objetivo_entrenamiento2[vecinos2[0]]))\n",
    "\n",
    "# Vecinos más cercanos y distancia a ellos del segundo ejemplo nuevo\n",
    "print(nuevos_ejemplos2[1])\n",
    "print(codificador_atributos2.inverse_transform(atributos_entrenamiento2[vecinos2[1]]))\n",
    "print(distancias2[1])\n",
    "print(codificador_objetivo2.inverse_transform(objetivo_entrenamiento2[vecinos2[1]]))"
   ]
  },
  {
   "cell_type": "code",
   "execution_count": null,
   "metadata": {},
   "outputs": [],
   "source": []
  },
  {
   "cell_type": "markdown",
   "metadata": {},
   "source": [
    "* ¿Cuál de los dos modelos construidos en los puntos anteriores realiza mejores predicciones acerca de la evaluación de las solicitudes de admisión?"
   ]
  },
  {
   "cell_type": "markdown",
   "metadata": {},
   "source": []
  }
 ],
 "metadata": {
  "kernelspec": {
   "display_name": "Python 3",
   "language": "python",
   "name": "python3"
  },
  "language_info": {
   "codemirror_mode": {
    "name": "ipython",
    "version": 3
   },
   "file_extension": ".py",
   "mimetype": "text/x-python",
   "name": "python",
   "nbconvert_exporter": "python",
   "pygments_lexer": "ipython3",
   "version": "3.8.0"
  },
  "name": "Solución_01_nueva.ipynb"
 },
 "nbformat": 4,
 "nbformat_minor": 4
}
